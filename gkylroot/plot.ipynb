{
 "cells": [
  {
   "cell_type": "code",
   "execution_count": null,
   "id": "32ea6033",
   "metadata": {
    "vscode": {
     "languageId": "plaintext"
    }
   },
   "outputs": [],
   "source": [
    "import matplotlib.pyplot as plt\n",
    "import numpy as np\n",
    "import gk\n",
    "import importlib\n",
    "importlib.reload(gk)"
   ]
  },
  {
   "cell_type": "code",
   "execution_count": null,
   "id": "e12947bc",
   "metadata": {
    "vscode": {
     "languageId": "plaintext"
    }
   },
   "outputs": [],
   "source": [
    "path = \"run-01\"\n",
    "sim = \"rt_vlasov_sr_twostream_1x1v\"\n",
    "steps = np.arange(1)\n",
    "\n",
    "n0 = 1.0\n",
    "vb = 1.0 / 20.0\n",
    "gammab = 1.0 / np.sqrt(1.0 - vb**2)\n",
    "ub = gammab * vb\n",
    "deltaub = ub / 25.0\n",
    "omegaPe = np.sqrt(n0)\n",
    "\n",
    "# fields = gk.ReadFields(path, sim, step)\n",
    "df = gk.ReadDist(path, sim, \"elc\", steps[-1])\n",
    "\n",
    "fig = plt.figure(figsize=(12, 4), dpi=300)\n",
    "gs = fig.add_gridspec(1, 2)\n",
    "ax1 = plt.subplot(gs[0])\n",
    "ax2 = plt.subplot(gs[1])\n",
    "ax1.pcolormesh(\n",
    "    df[\"x\"] * omegaPe / ub,\n",
    "    df[\"ux\"] / ub,\n",
    "    # np.log10(df[\"elc\"][:, :] / df[\"elc\"][:, :].max()),\n",
    "    # vmin=-6,\n",
    "    # vmax=0,\n",
    "    df[\"elc\"][:, :] / df[\"elc\"][:, :].max(),\n",
    "    vmin=0,\n",
    "    vmax=1,\n",
    "    cmap=\"Greys\",\n",
    ")\n",
    "ax1.set(\n",
    "    ylim=(-4, 4),\n",
    "    xlabel=r\"$x \\omega_{pe}/u_b$\",\n",
    "    ylabel=r\"$u_x/u_b$\",\n",
    ")\n",
    "\n",
    "for step in steps:\n",
    "    df = gk.ReadDist(path, sim, \"elc\", step)\n",
    "    print(np.sum(df[\"elc\"]))\n",
    "    ux_mean = (df[\"ux\"][1:] + df[\"ux\"][:-1]) * 0.5\n",
    "    df_du = np.mean(df[\"elc\"], axis=1)\n",
    "    mask = ux_mean >= 0\n",
    "    df_du = df_du[mask] + df_du[~mask][::-1]\n",
    "    ux_mean = ux_mean[mask]\n",
    "    ax2.plot(\n",
    "        (np.sqrt(1 + ux_mean**2) - 1) / (gammab - 1),\n",
    "        np.sqrt(1 + ux_mean**2) * df_du,\n",
    "        c=plt.cm.coolwarm(step / steps[-1]),\n",
    "    )\n",
    "    # df_dlogv2 = Ux_mean * (1 + Ux_mean**2) * df_du\n",
    "    # Vx_mean = Ux_mean / np.sqrt(1 + Ux_mean**2)\n",
    "    # ax2.plot((Vx_mean / vb) ** 2, (Vx_mean / vb) ** 2 * df_dlogv2, c=plt.cm.coolwarm(step / steps[-1]))\n",
    "ax2.set(\n",
    "    xscale=\"log\",\n",
    "    yscale=\"log\",\n",
    "    xlim=(0.1, 20),\n",
    "    ylim=(1e-4, 100),\n",
    "    xlabel=r\"$(\\gamma - 1)/(\\gamma_b - 1)$\",\n",
    "    ylabel=r\"$\\gamma dn/du$\",\n",
    ")"
   ]
  }
 ],
 "metadata": {
  "language_info": {
   "name": "python"
  }
 },
 "nbformat": 4,
 "nbformat_minor": 5
}
